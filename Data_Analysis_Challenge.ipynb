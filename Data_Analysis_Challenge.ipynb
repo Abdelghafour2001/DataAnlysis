{
  "nbformat": 4,
  "nbformat_minor": 0,
  "metadata": {
    "colab": {
      "provenance": [],
      "include_colab_link": true
    },
    "kernelspec": {
      "name": "python3",
      "display_name": "Python 3"
    },
    "language_info": {
      "name": "python"
    }
  },
  "cells": [
    {
      "cell_type": "markdown",
      "metadata": {
        "id": "view-in-github",
        "colab_type": "text"
      },
      "source": [
        "<a href=\"https://colab.research.google.com/github/Abdelghafour2001/DataAnlysis/blob/main/Data_Analysis_Challenge.ipynb\" target=\"_parent\"><img src=\"https://colab.research.google.com/assets/colab-badge.svg\" alt=\"Open In Colab\"/></a>"
      ]
    },
    {
      "cell_type": "markdown",
      "source": [
        "## Context\n",
        "\n",
        "Enakl is a bus sharing transportation solution that focuses on offering a reliable, confortable and secure mobility service for commuters: Based on what we think the market of workers needs (mobility from home to work and vice versa), we create lignes and open them for reservations (pre-booking). Our objective is to have at least 50% fill rate for our 20-seats busses and to ensure a high customer satisfaction rate.  \n",
        "\n",
        "\n",
        "You have access to a google sheet that has all the bookings from this year.\n",
        "\n",
        "* Google sheet link: https://docs.google.com/spreadsheets/d/16L-IvNtpLENNIaVFqJ_cuV4ER4mGmNxM0JKBbt7a6qI/edit?usp=sharing\n",
        "* Google sheet name: bookings_data\n",
        "\n",
        "The data should be self-explanatory.\n",
        "Not all columns are needed for this challenge.\n",
        "\n",
        "Some important specifications:\n",
        "\n",
        "- date_booking captures when the user books a ride (either directly via the app or indirectly when a support agent or a manager does that for them)\n",
        "- date_ride captures the actual date of the ride\n",
        "- A booking can be canceled (by the user directly or a agent/manager) as long as the day/time of the booked ride didn't happen.\n",
        "- If a booking is not canceled and the user doesn't show up the day/time of the ride, booking_status = 'Canceled by driver'\n",
        "- Once a ride is done (user dropped off at destination point), we ask the user to rate the service and the driver via the app\n",
        "- date_joined captures when the user installed the app and created an account\n",
        "\n",
        "\n",
        "\n",
        "## Asks:\n",
        "\n",
        "\n",
        "### Challenge 1: Business Curiosity & Data Insights (use Pandas)\n",
        "\n",
        "Based on your understanding of the data and business, choose 3 questions to ask yourself and find answers to using the data. Explain why you thought those question are worth analysing and what your conclusion(s) are from the exploratory analysis you'll be doing.\n",
        "\n",
        "_Hint:_ We are looking for simple questions that have interesting business insights.  \n",
        "\n",
        "\n",
        "### Challenge 2: Busline performance (use SQL)\n",
        "\n",
        "As mentioned in the introduction, we care a lot about having a high enough fill-rate of our busses (at least 50%) to ensure that we are profitable.\n",
        "\n",
        "We want to analyse how our current buslines are performing by doing the following:\n",
        "\n",
        "For each line:\n",
        "- We want to find out when it was launched from the data\n",
        "- We will call the week of the launch week_0 (week is from monday to sunday)\n",
        "- Then for each week, we want to calculate the average fill rate during that week\n",
        "\n",
        "knowing that the fill rate for a busline on a given day reprents the percentage of occupied seats: If for busline X on 15/12/2023, we had 10 passengers, that means the fill rate for that day is 50% (all busses have 20 seats)\n",
        "\n",
        "All of those metrics have to be calculated using sql (you can use pandasql) in one query\n",
        "\n",
        "The results should be displayed as:\n",
        "- Pivot table: rows = line names - colmuns = launch date + weekly fill rate d\n",
        "- Line Chart with the 5 oldest lignes that capture these stats as well\n",
        "\n",
        "\n",
        "### Challenge 3: Conclusions and perspectives\n",
        "\n",
        "Summarise in 5 sentences what your learned from the data and what you think we should explore and focus on next, and why.  \n",
        "\n",
        "\n",
        "## What is expected from you:\n",
        "\n",
        "- Copy this colab, add your first name to the title\n",
        "- All your work shoumd be contained in your notebook\n",
        "- Once done, share your notebook with me ahmed@enakl.com (view access)\n",
        "\n",
        "## What you will be evaluted on:\n",
        "\n",
        "- Understanding of what the data captures\n",
        "- Communicating your thoughts and results clearly\n",
        "- Writing clear clean code\n",
        "- Your business understanding\n",
        "- Your analytical thinking\n",
        "- Your python and sql skills (you can use pandasql to query pandas dataframe using sql)"
      ],
      "metadata": {
        "id": "jk-UJ2Tx42uq"
      }
    },
    {
      "cell_type": "markdown",
      "source": [],
      "metadata": {
        "id": "qW9JPGzG4ybp"
      }
    }
  ]
}